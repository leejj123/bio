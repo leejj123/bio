{
  "nbformat": 4,
  "nbformat_minor": 0,
  "metadata": {
    "colab": {
      "provenance": [],
      "authorship_tag": "ABX9TyM1ixb6eu76ktGteKZT/JTL",
      "include_colab_link": true
    },
    "kernelspec": {
      "name": "python3",
      "display_name": "Python 3"
    },
    "language_info": {
      "name": "python"
    }
  },
  "cells": [
    {
      "cell_type": "markdown",
      "metadata": {
        "id": "view-in-github",
        "colab_type": "text"
      },
      "source": [
        "<a href=\"https://colab.research.google.com/github/leejj123/bio/blob/main/%ED%8C%8C%EC%9D%B4%EC%8D%AC1%EC%9D%BC%EC%B0%A801.ipynb\" target=\"_parent\"><img src=\"https://colab.research.google.com/assets/colab-badge.svg\" alt=\"Open In Colab\"/></a>"
      ]
    },
    {
      "cell_type": "markdown",
      "source": [
        "## 파이썬 자료형\n"
      ],
      "metadata": {
        "id": "AzBybjlFetsW"
      }
    },
    {
      "cell_type": "code",
      "source": [
        "사과='사과'\n",
        "print(사과)\n",
        "a = 3.14\n",
        "b = 314\n",
        "print( int(a))\n",
        "print(float(b))\n",
        "\n"
      ],
      "metadata": {
        "colab": {
          "base_uri": "https://localhost:8080/"
        },
        "id": "b5vbPf-Jg5QN",
        "outputId": "7bc0dd5f-63e6-4e7b-eb38-8975086762c8"
      },
      "execution_count": 2,
      "outputs": [
        {
          "output_type": "stream",
          "name": "stdout",
          "text": [
            "사과\n",
            "3\n",
            "314.0\n"
          ]
        }
      ]
    },
    {
      "cell_type": "code",
      "source": [
        "### 문자열형\n",
        ""
      ],
      "metadata": {
        "id": "juvGytAHhpQG"
      },
      "execution_count": null,
      "outputs": []
    },
    {
      "cell_type": "code",
      "source": [
        "# +기호는 문자열을 붙여서 표현한다,\n",
        "print('오늘은' + '파이썬 첫째날')\n",
        "print('오늘은' , '파이썬 첫쨰날')"
      ],
      "metadata": {
        "colab": {
          "base_uri": "https://localhost:8080/"
        },
        "id": "KZLoo1VNpUiF",
        "outputId": "d7fab0ad-7889-4811-e6f3-597dedada423"
      },
      "execution_count": 3,
      "outputs": [
        {
          "output_type": "stream",
          "name": "stdout",
          "text": [
            "오늘은파이썬 첫째날\n",
            "오늘은 파이썬 첫쨰날\n"
          ]
        }
      ]
    },
    {
      "cell_type": "code",
      "source": [
        "# * : 문자열을 반복한다\n",
        "print('반짝' * 5)\n",
        "print( '_' * 50)"
      ],
      "metadata": {
        "colab": {
          "base_uri": "https://localhost:8080/"
        },
        "id": "gkBup9XNqCF9",
        "outputId": "9e42fcf8-9045-48ea-e661-1175dd167aca"
      },
      "execution_count": 4,
      "outputs": [
        {
          "output_type": "stream",
          "name": "stdout",
          "text": [
            "반짝반짝반짝반짝반짝\n",
            "__________________________________________________\n"
          ]
        }
      ]
    },
    {
      "cell_type": "code",
      "source": [
        "from pickle import FALSE\n",
        "#bool 타입\n",
        "# a = True\n",
        "# b = False\n",
        "# print(a,b)\n",
        "\n",
        "a = 100\n",
        "b = 200\n",
        "print(a>b)"
      ],
      "metadata": {
        "colab": {
          "base_uri": "https://localhost:8080/"
        },
        "id": "NsXfpMAHqjJI",
        "outputId": "03cb37b6-fd76-483f-8477-fcf7b8c8bee3"
      },
      "execution_count": 8,
      "outputs": [
        {
          "output_type": "stream",
          "name": "stdout",
          "text": [
            "False\n"
          ]
        }
      ]
    },
    {
      "cell_type": "code",
      "source": [
        "## 파이썬 기본 입출력\n",
        "# 파이썬으로 사칙연산 프로그램 만들기\n",
        "a = input('키보드로 입력하세요:')\n",
        "a = int(a)\n",
        "print('a의값은: ' , a , type(a))\n"
      ],
      "metadata": {
        "colab": {
          "base_uri": "https://localhost:8080/"
        },
        "id": "OMfAstD1sopU",
        "outputId": "418a2d4f-9108-4b43-b541-2562e5b0bdf0"
      },
      "execution_count": 13,
      "outputs": [
        {
          "output_type": "stream",
          "name": "stdout",
          "text": [
            "키보드로 입력하세요:200\n",
            "a의값은:  200 <class 'int'>\n"
          ]
        }
      ]
    },
    {
      "cell_type": "code",
      "source": [
        "a = int(input('키보드로 입력하세요:'))"
      ],
      "metadata": {
        "colab": {
          "base_uri": "https://localhost:8080/"
        },
        "id": "iIwuyFi4t8GD",
        "outputId": "77845e42-4117-4798-bc8f-e4f2ec1c8f8d"
      },
      "execution_count": 15,
      "outputs": [
        {
          "name": "stdout",
          "output_type": "stream",
          "text": [
            "키보드로 입력하세요:100\n"
          ]
        }
      ]
    },
    {
      "cell_type": "code",
      "source": [
        "num1=int(input('첫번째 숫자:'))\n",
        "num2=int(input('두번째 숫자:'))\n",
        "print('-' * 30)\n",
        "print('덧셈: %d + %d = %d' % (num1,num2,num1+num2))\n",
        "print('뺄셈: %d - %d = %d' % (num1,num2,num1-num2))\n",
        "print('곱셈: %d * %d = %d' % (num1,num2,num1*num2))\n",
        "print('나눗셈: %d / %d = %d' % (num1,num2,num1/num2))"
      ],
      "metadata": {
        "colab": {
          "base_uri": "https://localhost:8080/"
        },
        "id": "zGebz7wXudOu",
        "outputId": "6df53566-318b-421e-c81d-e2484d41f4ed"
      },
      "execution_count": 21,
      "outputs": [
        {
          "output_type": "stream",
          "name": "stdout",
          "text": [
            "첫번째 숫자:2\n",
            "두번째 숫자:1\n",
            "------------------------------\n",
            "덧셈: 2 + 1 = 3\n",
            "뺄셈: 2 - 1 = 1\n",
            "곱셈: 2 * 1 = 2\n",
            "나눗셈: 2 / 1 = 2\n"
          ]
        }
      ]
    },
    {
      "cell_type": "code",
      "source": [
        "num1=int(input('첫번째 숫자:'))\n",
        "num2=int(input('두번째 숫자:'))\n",
        "print('-' * 30)\n",
        "print(f'덧셈: {num1} + {num2:>3} = {num1+num2}')\n",
        "print(f'뺄셈: {num1} - {num2:0>3} = {num1-num2}')\n",
        "print(f'곱셈: {num1} * {num2:0>3} = {num1*num2}')\n",
        "print(f'나눗셈: {num1} / {num2:0>3} = {num1/num2}')"
      ],
      "metadata": {
        "colab": {
          "base_uri": "https://localhost:8080/"
        },
        "id": "8Ddw_olTwUr3",
        "outputId": "e7d779c7-4743-4524-e29d-44aa49554bd0"
      },
      "execution_count": 29,
      "outputs": [
        {
          "output_type": "stream",
          "name": "stdout",
          "text": [
            "첫번째 숫자:200\n",
            "두번째 숫자:30\n",
            "------------------------------\n",
            "덧셈: 200 +  30 = 230\n",
            "뺄셈: 200 - 030 = 170\n",
            "곱셈: 200 * 030 = 6000\n",
            "나눗셈: 200 / 030 = 6.666666666666667\n"
          ]
        }
      ]
    },
    {
      "cell_type": "code",
      "source": [
        "# 시간=거리 / 속도\n",
        "num1=float(input('속도를 입력해주세요: '))\n",
        "num2=float(input('거리를 입력해주세요: '))\n",
        "print(f'속도= {num1}')\n",
        "print(f'거리= {num2}')\n",
        "print(f'시간= {num2} / {num1} = {num2/num1}')"
      ],
      "metadata": {
        "colab": {
          "base_uri": "https://localhost:8080/"
        },
        "id": "vHaE7NtFymT4",
        "outputId": "10872a82-a610-49ce-efaf-df2f7c4bde26"
      },
      "execution_count": 53,
      "outputs": [
        {
          "output_type": "stream",
          "name": "stdout",
          "text": [
            "속도를 입력해주세요: 200\n",
            "거리를 입력해주세요: 50\n",
            "속도= 200.0\n",
            "거리= 50.0\n",
            "시간= 50.0 / 200.0 = 0.25\n"
          ]
        }
      ]
    },
    {
      "cell_type": "code",
      "source": [
        "a = input('정수를 입력하세요: ')\n",
        "\n",
        "result = int(a) + int(a * 2) + int(a * 3)\n",
        "print(f'{a} + {a * 2} + {a * 3} = {result}')\n"
      ],
      "metadata": {
        "colab": {
          "base_uri": "https://localhost:8080/"
        },
        "id": "BvRfk5V24CG3",
        "outputId": "495a62fa-f4c8-4307-a687-7ca7610571d5"
      },
      "execution_count": 63,
      "outputs": [
        {
          "output_type": "stream",
          "name": "stdout",
          "text": [
            "정수를 입력하세요: 7\n",
            "7 + 77 + 777 = 861\n"
          ]
        }
      ]
    },
    {
      "cell_type": "code",
      "source": [
        "#eval(): 문자열을 숫자처럼 계산해줌\n",
        "eval('3+4')\n",
        "a=input('정수:')\n",
        "result=f'{a}+{a+a}+{a+a+a}'\n",
        "print(f'{result}={eval(result)}')"
      ],
      "metadata": {
        "colab": {
          "base_uri": "https://localhost:8080/"
        },
        "id": "FEKBGfdz713r",
        "outputId": "8694aa21-da05-41e7-9022-f67faf07b27d"
      },
      "execution_count": 67,
      "outputs": [
        {
          "output_type": "stream",
          "name": "stdout",
          "text": [
            "정수:7\n",
            "7+77+777=861\n"
          ]
        }
      ]
    }
  ]
}