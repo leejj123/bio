{
  "nbformat": 4,
  "nbformat_minor": 0,
  "metadata": {
    "colab": {
      "provenance": [],
      "authorship_tag": "ABX9TyMNgrOFn7HPuEVAO2F/0s4B",
      "include_colab_link": true
    },
    "kernelspec": {
      "name": "python3",
      "display_name": "Python 3"
    },
    "language_info": {
      "name": "python"
    }
  },
  "cells": [
    {
      "cell_type": "markdown",
      "metadata": {
        "id": "view-in-github",
        "colab_type": "text"
      },
      "source": [
        "<a href=\"https://colab.research.google.com/github/leejj123/bio/blob/main/%ED%8C%8C%EC%9D%B4%EC%8D%AC_3%EC%9D%BC%EC%B0%A8.ipynb\" target=\"_parent\"><img src=\"https://colab.research.google.com/assets/colab-badge.svg\" alt=\"Open In Colab\"/></a>"
      ]
    },
    {
      "cell_type": "code",
      "execution_count": 3,
      "metadata": {
        "colab": {
          "base_uri": "https://localhost:8080/"
        },
        "id": "85R-yuqxzMWG",
        "outputId": "ea67e7c6-6d0f-435a-c476-6c3dcd76dec9"
      },
      "outputs": [
        {
          "output_type": "stream",
          "name": "stdout",
          "text": [
            "안녕하세요\n",
            "안녕하세요\n",
            "안녕하세요\n"
          ]
        }
      ],
      "source": [
        "#for 반복 (range함수)\n",
        "for i in range(0,3,1):\n",
        "  print(\"안녕하세요\")"
      ]
    },
    {
      "cell_type": "code",
      "source": [
        "#(0,5,1)은 (5)와 결과가 같다\n",
        "for i in range(0,5,1):\n",
        "  print(\"반복\")"
      ],
      "metadata": {
        "colab": {
          "base_uri": "https://localhost:8080/"
        },
        "id": "KeRXSysF99x2",
        "outputId": "055d98d3-ce7f-4a2a-d58c-b92181bf2c3c"
      },
      "execution_count": 4,
      "outputs": [
        {
          "output_type": "stream",
          "name": "stdout",
          "text": [
            "반복\n",
            "반복\n",
            "반복\n",
            "반복\n",
            "반복\n"
          ]
        }
      ]
    },
    {
      "cell_type": "code",
      "source": [
        "for i in range(5):\n",
        "  print(\"반복\")"
      ],
      "metadata": {
        "colab": {
          "base_uri": "https://localhost:8080/"
        },
        "id": "vbv00k41-Zy2",
        "outputId": "8cf27283-262e-4184-feb5-714ccf6ef6a4"
      },
      "execution_count": 5,
      "outputs": [
        {
          "output_type": "stream",
          "name": "stdout",
          "text": [
            "반복\n",
            "반복\n",
            "반복\n",
            "반복\n",
            "반복\n"
          ]
        }
      ]
    },
    {
      "cell_type": "code",
      "source": [
        "for i in range(0,10,2):\n",
        "  print(f'{i} 반복')"
      ],
      "metadata": {
        "colab": {
          "base_uri": "https://localhost:8080/"
        },
        "id": "iirMJKy_-glf",
        "outputId": "0ad8c758-6568-42d2-bcb0-f2de3e511908"
      },
      "execution_count": 8,
      "outputs": [
        {
          "output_type": "stream",
          "name": "stdout",
          "text": [
            "0 반복\n",
            "2 반복\n",
            "4 반복\n",
            "6 반복\n",
            "8 반복\n"
          ]
        }
      ]
    },
    {
      "cell_type": "code",
      "source": [
        "#range()함수를 이용해 정수나열 리스트 만들기\n",
        "print(list(range(2,10,3)))"
      ],
      "metadata": {
        "colab": {
          "base_uri": "https://localhost:8080/"
        },
        "id": "XYyGrNvX-_QX",
        "outputId": "da27b717-e1b5-46f6-8973-e7d273713a2c"
      },
      "execution_count": 9,
      "outputs": [
        {
          "output_type": "stream",
          "name": "stdout",
          "text": [
            "[2, 5, 8]\n"
          ]
        }
      ]
    },
    {
      "cell_type": "code",
      "source": [
        "for i in [0,1,2]:\n",
        "  print(\"반복\")"
      ],
      "metadata": {
        "colab": {
          "base_uri": "https://localhost:8080/"
        },
        "id": "WRl2XRd9_Xgt",
        "outputId": "c1241969-202f-4af6-fcce-e73e0dcb829c"
      },
      "execution_count": 10,
      "outputs": [
        {
          "output_type": "stream",
          "name": "stdout",
          "text": [
            "반복\n",
            "반복\n",
            "반복\n"
          ]
        }
      ]
    },
    {
      "cell_type": "code",
      "source": [
        "#i를 사용하지 않으려면 _(언더바) 사용가능\n",
        "for _ in range(0,3,1):\n",
        "  print(\"반복\")"
      ],
      "metadata": {
        "colab": {
          "base_uri": "https://localhost:8080/"
        },
        "id": "z4iHYdMv_iec",
        "outputId": "57b07fd6-14d4-4fc7-f2f6-d45e4eb8d016"
      },
      "execution_count": 12,
      "outputs": [
        {
          "output_type": "stream",
          "name": "stdout",
          "text": [
            "반복\n",
            "반복\n",
            "반복\n"
          ]
        }
      ]
    },
    {
      "cell_type": "code",
      "source": [
        "for 번호 in 'student' :\n",
        "  print(f'{번호} 파이썬 예제')"
      ],
      "metadata": {
        "colab": {
          "base_uri": "https://localhost:8080/"
        },
        "id": "C1V5uWfrADKW",
        "outputId": "3908e594-4a0d-4c6b-937d-179fd421c53c"
      },
      "execution_count": 13,
      "outputs": [
        {
          "output_type": "stream",
          "name": "stdout",
          "text": [
            "s 파이썬 예제\n",
            "t 파이썬 예제\n",
            "u 파이썬 예제\n",
            "d 파이썬 예제\n",
            "e 파이썬 예제\n",
            "n 파이썬 예제\n",
            "t 파이썬 예제\n"
          ]
        }
      ]
    },
    {
      "cell_type": "code",
      "source": [
        "#변수를 지정하지 않을떄\n",
        "for _ in 'student':\n",
        "  print('파이썬 예제')"
      ],
      "metadata": {
        "colab": {
          "base_uri": "https://localhost:8080/"
        },
        "id": "iswomo6eAdXW",
        "outputId": "7436ee6f-211e-4b48-aa4b-549a0e907e53"
      },
      "execution_count": 14,
      "outputs": [
        {
          "output_type": "stream",
          "name": "stdout",
          "text": [
            "파이썬 예제\n",
            "파이썬 예제\n",
            "파이썬 예제\n",
            "파이썬 예제\n",
            "파이썬 예제\n",
            "파이썬 예제\n",
            "파이썬 예제\n"
          ]
        }
      ]
    },
    {
      "cell_type": "markdown",
      "source": [
        "합계구하기 range"
      ],
      "metadata": {
        "id": "DdMNsZodA1S2"
      }
    },
    {
      "cell_type": "code",
      "source": [
        "#1+2+3+4+5+6+7+8+9+10 합계 예시\n",
        "hap=0\n",
        "for i in range(1,11,1):\n",
        "  hap=hap + i\n",
        "print(f'1부터 10까지의합:{hap} ')"
      ],
      "metadata": {
        "colab": {
          "base_uri": "https://localhost:8080/"
        },
        "id": "xdlV_v6kBBS1",
        "outputId": "607c9262-537e-48e1-bb93-f920e45aa54f"
      },
      "execution_count": 16,
      "outputs": [
        {
          "output_type": "stream",
          "name": "stdout",
          "text": [
            "1부터 10까지의합:55 \n"
          ]
        }
      ]
    },
    {
      "cell_type": "code",
      "source": [
        "hap=0\n",
        "for i in range(1,101,1):\n",
        "    hap=hap + i\n",
        "print(f'1부터 100까지의합:{hap}')"
      ],
      "metadata": {
        "colab": {
          "base_uri": "https://localhost:8080/"
        },
        "id": "Rn39MaAoA4Xi",
        "outputId": "f73d2d98-1331-4a18-c6ea-0e59332fa95b"
      },
      "execution_count": 20,
      "outputs": [
        {
          "output_type": "stream",
          "name": "stdout",
          "text": [
            "1부터 100까지의합:5050\n"
          ]
        }
      ]
    },
    {
      "cell_type": "code",
      "source": [
        "#합계 리스트\n",
        "a=[1,44,54,23,66,73,25,14,19,98]\n",
        "hap=0\n",
        "for i in a:\n",
        "  hap=hap+i\n",
        "print(f'리스트 {a}의 합은{hap}')\n",
        "sum(a)"
      ],
      "metadata": {
        "colab": {
          "base_uri": "https://localhost:8080/"
        },
        "id": "igVwoEoCFfQI",
        "outputId": "be909a7e-34c1-45c8-a75a-f7de26184684"
      },
      "execution_count": 22,
      "outputs": [
        {
          "output_type": "stream",
          "name": "stdout",
          "text": [
            "리스트 [1, 44, 54, 23, 66, 73, 25, 14, 19, 98]의 합은417\n"
          ]
        },
        {
          "output_type": "execute_result",
          "data": {
            "text/plain": [
              "417"
            ]
          },
          "metadata": {},
          "execution_count": 22
        }
      ]
    },
    {
      "cell_type": "code",
      "source": [
        "## max,min\n",
        "a=[1,44,54,23,66,73,25,14,19,98]\n",
        "print(f'리스트 {a}의가장 큰 수는 {max(a)} ')\n",
        "print(f'리스트 {a}의가장 작은 수는 {min(a)}')\n",
        "print(f'리스트 {a}의 갯수는 {len(a)}')"
      ],
      "metadata": {
        "colab": {
          "base_uri": "https://localhost:8080/"
        },
        "id": "f64mm_2GGeUv",
        "outputId": "ad67b101-1815-4c02-f758-23d77383e85d"
      },
      "execution_count": 26,
      "outputs": [
        {
          "output_type": "stream",
          "name": "stdout",
          "text": [
            "리스트 [1, 44, 54, 23, 66, 73, 25, 14, 19, 98]의가장 큰 수는 98 \n",
            "리스트 [1, 44, 54, 23, 66, 73, 25, 14, 19, 98]의가장 작은 수는 1\n",
            "리스트 [1, 44, 54, 23, 66, 73, 25, 14, 19, 98]의 갯수는 10\n"
          ]
        }
      ]
    },
    {
      "cell_type": "code",
      "source": [
        "#평균 구하기\n",
        "a=[1,44,54,23,66,73,25,14,19,98]\n",
        "sum(a) / len(a)\n",
        "print(f' 리스트{a}의 평균값은 {sum(a)/len(a)}')\n",
        "print(f' 리스트{a}의 평균값은 {sum(a)}/{len(a)}')"
      ],
      "metadata": {
        "colab": {
          "base_uri": "https://localhost:8080/"
        },
        "id": "wZdvcDONHFI7",
        "outputId": "44ddb345-6f29-4af0-f405-fd8c2ccd4483"
      },
      "execution_count": 32,
      "outputs": [
        {
          "output_type": "stream",
          "name": "stdout",
          "text": [
            " 리스트[1, 44, 54, 23, 66, 73, 25, 14, 19, 98]의 평균값은 41.7\n",
            " 리스트[1, 44, 54, 23, 66, 73, 25, 14, 19, 98]의 평균값은 417/10\n"
          ]
        }
      ]
    },
    {
      "cell_type": "code",
      "source": [
        "n = int(input('합계를 구할 숫자 입력: '))\n",
        "print(f\"1부터 {n}까지의 합은 {sum(list(range(1,n+1)))}\")"
      ],
      "metadata": {
        "colab": {
          "base_uri": "https://localhost:8080/"
        },
        "id": "P9hJaC8SJCL1",
        "outputId": "8afc64b1-93ba-4d89-ce78-1a67a6a46ab2"
      },
      "execution_count": 39,
      "outputs": [
        {
          "output_type": "stream",
          "name": "stdout",
          "text": [
            "합계를 구할 숫자 입력: 10\n",
            "1부터 10까지의 합은 55\n"
          ]
        }
      ]
    },
    {
      "cell_type": "code",
      "source": [
        "#1+n까지 합 구하기, 짝수 제외\n",
        "\n",
        "n=int(input('합계를 구할 숫자:'))\n",
        "hap = 0\n",
        "for i in range(1,n+1,2):\n",
        "  hap = hap+i\n",
        "print(f'1~{n}까지 짝수를 제외한 정수의 합은:{hap}')"
      ],
      "metadata": {
        "colab": {
          "base_uri": "https://localhost:8080/"
        },
        "id": "iHR14vuFKa5b",
        "outputId": "1da15d69-4558-4bf7-b0c7-00f8cc26f96e"
      },
      "execution_count": 40,
      "outputs": [
        {
          "output_type": "stream",
          "name": "stdout",
          "text": [
            "합계를 구할 숫자:100\n",
            "1~100까지 짝수를 제외한 정수의 합은:2500\n"
          ]
        }
      ]
    },
    {
      "cell_type": "code",
      "source": [
        "a_list = list(input('괄호를 입력하세요 :'))\n",
        "a = 0\n",
        "for _ in a_list:\n",
        "    if _ == '(':\n",
        "        a += 1\n",
        "    elif _ == ')':\n",
        "        a -= 1\n",
        "if a_list[0] == '(' and a_list[-1] == ')' and a == 0:\n",
        "    print('결과 : True')\n",
        "else:\n",
        "    print('결과 : False')"
      ],
      "metadata": {
        "colab": {
          "base_uri": "https://localhost:8080/"
        },
        "id": "YHj5t13-PPwO",
        "outputId": "97829eab-1e62-467a-f2e9-42b7740959b9"
      },
      "execution_count": 44,
      "outputs": [
        {
          "output_type": "stream",
          "name": "stdout",
          "text": [
            "괄호를 입력하세요 :()()()()())\n",
            "결과 : False\n"
          ]
        }
      ]
    },
    {
      "cell_type": "code",
      "source": [
        "a_list = list(input('괄호: '))\n",
        "print(a_list)\n",
        "t = 0\n",
        "\n",
        "for i in range(1, len(a_list)+1):\n",
        "  if t >= 0:\n",
        "    if a_list[i-1] == '(':\n",
        "      t += 1\n",
        "    elif a_list[i-1] == ')':\n",
        "      t -= 1\n",
        "\n",
        "if t == 0:\n",
        "  print('결과: True')\n",
        "else:\n",
        "  print('결과: False')"
      ],
      "metadata": {
        "colab": {
          "base_uri": "https://localhost:8080/"
        },
        "id": "a5Vf4O-yQRzT",
        "outputId": "31adbde2-5e1a-4125-a268-97cfa29f16c4"
      },
      "execution_count": 45,
      "outputs": [
        {
          "output_type": "stream",
          "name": "stdout",
          "text": [
            "괄호: (())\n",
            "['(', '(', ')', ')']\n",
            "결과: True\n"
          ]
        }
      ]
    },
    {
      "cell_type": "code",
      "source": [
        "n=int(input('구구단 단중 몇단을 출력 해드릴까요?:'))\n",
        "for i in range(1,10,):\n",
        "  print(f'{n} X {i} = {n*i:>2}')"
      ],
      "metadata": {
        "colab": {
          "base_uri": "https://localhost:8080/"
        },
        "id": "NixE3PxEVGQ_",
        "outputId": "70985a89-a289-405b-9ffd-c585a40cb44f"
      },
      "execution_count": 53,
      "outputs": [
        {
          "output_type": "stream",
          "name": "stdout",
          "text": [
            "구구단 단중 몇단을 출력 해드릴까요?:7\n",
            "7 X 1 =  7\n",
            "7 X 2 = 14\n",
            "7 X 3 = 21\n",
            "7 X 4 = 28\n",
            "7 X 5 = 35\n",
            "7 X 6 = 42\n",
            "7 X 7 = 49\n",
            "7 X 8 = 56\n",
            "7 X 9 = 63\n"
          ]
        }
      ]
    },
    {
      "cell_type": "code",
      "source": [
        "n=int(input('구구단 단중 몇단을 출력 해드릴까요?:'))\n",
        "for i in range(1,10,):\n",
        "  print(f'{n} X {i} = {n*i:>2}')"
      ],
      "metadata": {
        "colab": {
          "base_uri": "https://localhost:8080/"
        },
        "id": "pGMgNMvqXGIB",
        "outputId": "2ab49678-d622-439b-a49a-f6a14647d8fd"
      },
      "execution_count": 54,
      "outputs": [
        {
          "output_type": "stream",
          "name": "stdout",
          "text": [
            "구구단 단중 몇단을 출력 해드릴까요?:3\n",
            "3 X 1 =  3\n",
            "3 X 2 =  6\n",
            "3 X 3 =  9\n",
            "3 X 4 = 12\n",
            "3 X 5 = 15\n",
            "3 X 6 = 18\n",
            "3 X 7 = 21\n",
            "3 X 8 = 24\n",
            "3 X 9 = 27\n"
          ]
        }
      ]
    },
    {
      "cell_type": "code",
      "source": [
        "for i in range(2,10):\n",
        "    for j in range(1,10):\n",
        "        print(i,\"*\",j,\"=\",i*j)\n",
        "\n",
        "\n",
        "\n"
      ],
      "metadata": {
        "colab": {
          "base_uri": "https://localhost:8080/"
        },
        "id": "L7esLEuDXPz7",
        "outputId": "ed4c126e-2455-47cd-ae37-c2bf09fe8a11"
      },
      "execution_count": 56,
      "outputs": [
        {
          "output_type": "stream",
          "name": "stdout",
          "text": [
            "2 * 1 = 2\n",
            "2 * 2 = 4\n",
            "2 * 3 = 6\n",
            "2 * 4 = 8\n",
            "2 * 5 = 10\n",
            "2 * 6 = 12\n",
            "2 * 7 = 14\n",
            "2 * 8 = 16\n",
            "2 * 9 = 18\n",
            "3 * 1 = 3\n",
            "3 * 2 = 6\n",
            "3 * 3 = 9\n",
            "3 * 4 = 12\n",
            "3 * 5 = 15\n",
            "3 * 6 = 18\n",
            "3 * 7 = 21\n",
            "3 * 8 = 24\n",
            "3 * 9 = 27\n",
            "4 * 1 = 4\n",
            "4 * 2 = 8\n",
            "4 * 3 = 12\n",
            "4 * 4 = 16\n",
            "4 * 5 = 20\n",
            "4 * 6 = 24\n",
            "4 * 7 = 28\n",
            "4 * 8 = 32\n",
            "4 * 9 = 36\n",
            "5 * 1 = 5\n",
            "5 * 2 = 10\n",
            "5 * 3 = 15\n",
            "5 * 4 = 20\n",
            "5 * 5 = 25\n",
            "5 * 6 = 30\n",
            "5 * 7 = 35\n",
            "5 * 8 = 40\n",
            "5 * 9 = 45\n",
            "6 * 1 = 6\n",
            "6 * 2 = 12\n",
            "6 * 3 = 18\n",
            "6 * 4 = 24\n",
            "6 * 5 = 30\n",
            "6 * 6 = 36\n",
            "6 * 7 = 42\n",
            "6 * 8 = 48\n",
            "6 * 9 = 54\n",
            "7 * 1 = 7\n",
            "7 * 2 = 14\n",
            "7 * 3 = 21\n",
            "7 * 4 = 28\n",
            "7 * 5 = 35\n",
            "7 * 6 = 42\n",
            "7 * 7 = 49\n",
            "7 * 8 = 56\n",
            "7 * 9 = 63\n",
            "8 * 1 = 8\n",
            "8 * 2 = 16\n",
            "8 * 3 = 24\n",
            "8 * 4 = 32\n",
            "8 * 5 = 40\n",
            "8 * 6 = 48\n",
            "8 * 7 = 56\n",
            "8 * 8 = 64\n",
            "8 * 9 = 72\n",
            "9 * 1 = 9\n",
            "9 * 2 = 18\n",
            "9 * 3 = 27\n",
            "9 * 4 = 36\n",
            "9 * 5 = 45\n",
            "9 * 6 = 54\n",
            "9 * 7 = 63\n",
            "9 * 8 = 72\n",
            "9 * 9 = 81\n"
          ]
        }
      ]
    },
    {
      "cell_type": "code",
      "source": [
        "#구구단을 세로로 출력하기\n",
        "for i in range(1,10): # i를 1부터 9까지 받아와서 반복함\n",
        "    for j in range(1,10):  # j를 1부터 9까지 받아와서 반복함\n",
        "        print('{}x{}='.format(i,j),i*j) # 구구단을 프린트하는 구문\n",
        "\n",
        "\n"
      ],
      "metadata": {
        "colab": {
          "base_uri": "https://localhost:8080/"
        },
        "id": "g7xIpTAvYk_j",
        "outputId": "7b9939b1-40e9-44d0-d8e8-a6815b785290"
      },
      "execution_count": 61,
      "outputs": [
        {
          "output_type": "stream",
          "name": "stdout",
          "text": [
            "1x1= 1\n",
            "1x2= 2\n",
            "1x3= 3\n",
            "1x4= 4\n",
            "1x5= 5\n",
            "1x6= 6\n",
            "1x7= 7\n",
            "1x8= 8\n",
            "1x9= 9\n",
            "2x1= 2\n",
            "2x2= 4\n",
            "2x3= 6\n",
            "2x4= 8\n",
            "2x5= 10\n",
            "2x6= 12\n",
            "2x7= 14\n",
            "2x8= 16\n",
            "2x9= 18\n",
            "3x1= 3\n",
            "3x2= 6\n",
            "3x3= 9\n",
            "3x4= 12\n",
            "3x5= 15\n",
            "3x6= 18\n",
            "3x7= 21\n",
            "3x8= 24\n",
            "3x9= 27\n",
            "4x1= 4\n",
            "4x2= 8\n",
            "4x3= 12\n",
            "4x4= 16\n",
            "4x5= 20\n",
            "4x6= 24\n",
            "4x7= 28\n",
            "4x8= 32\n",
            "4x9= 36\n",
            "5x1= 5\n",
            "5x2= 10\n",
            "5x3= 15\n",
            "5x4= 20\n",
            "5x5= 25\n",
            "5x6= 30\n",
            "5x7= 35\n",
            "5x8= 40\n",
            "5x9= 45\n",
            "6x1= 6\n",
            "6x2= 12\n",
            "6x3= 18\n",
            "6x4= 24\n",
            "6x5= 30\n",
            "6x6= 36\n",
            "6x7= 42\n",
            "6x8= 48\n",
            "6x9= 54\n",
            "7x1= 7\n",
            "7x2= 14\n",
            "7x3= 21\n",
            "7x4= 28\n",
            "7x5= 35\n",
            "7x6= 42\n",
            "7x7= 49\n",
            "7x8= 56\n",
            "7x9= 63\n",
            "8x1= 8\n",
            "8x2= 16\n",
            "8x3= 24\n",
            "8x4= 32\n",
            "8x5= 40\n",
            "8x6= 48\n",
            "8x7= 56\n",
            "8x8= 64\n",
            "8x9= 72\n",
            "9x1= 9\n",
            "9x2= 18\n",
            "9x3= 27\n",
            "9x4= 36\n",
            "9x5= 45\n",
            "9x6= 54\n",
            "9x7= 63\n",
            "9x8= 72\n",
            "9x9= 81\n"
          ]
        }
      ]
    },
    {
      "cell_type": "code",
      "source": [
        "for i in range(1,10):\n",
        "  for k in range(2,10):\n",
        "    print(f'{k} x {i} = {i*k:>2}', end=', ')\n",
        "  print()\n"
      ],
      "metadata": {
        "colab": {
          "base_uri": "https://localhost:8080/"
        },
        "id": "VvJHwNjIY2VK",
        "outputId": "b06d7aff-87c1-4ed0-e86c-25956090af1b"
      },
      "execution_count": 64,
      "outputs": [
        {
          "output_type": "stream",
          "name": "stdout",
          "text": [
            "2 x 1 =  2, 3 x 1 =  3, 4 x 1 =  4, 5 x 1 =  5, 6 x 1 =  6, 7 x 1 =  7, 8 x 1 =  8, 9 x 1 =  9, \n",
            "2 x 2 =  4, 3 x 2 =  6, 4 x 2 =  8, 5 x 2 = 10, 6 x 2 = 12, 7 x 2 = 14, 8 x 2 = 16, 9 x 2 = 18, \n",
            "2 x 3 =  6, 3 x 3 =  9, 4 x 3 = 12, 5 x 3 = 15, 6 x 3 = 18, 7 x 3 = 21, 8 x 3 = 24, 9 x 3 = 27, \n",
            "2 x 4 =  8, 3 x 4 = 12, 4 x 4 = 16, 5 x 4 = 20, 6 x 4 = 24, 7 x 4 = 28, 8 x 4 = 32, 9 x 4 = 36, \n",
            "2 x 5 = 10, 3 x 5 = 15, 4 x 5 = 20, 5 x 5 = 25, 6 x 5 = 30, 7 x 5 = 35, 8 x 5 = 40, 9 x 5 = 45, \n",
            "2 x 6 = 12, 3 x 6 = 18, 4 x 6 = 24, 5 x 6 = 30, 6 x 6 = 36, 7 x 6 = 42, 8 x 6 = 48, 9 x 6 = 54, \n",
            "2 x 7 = 14, 3 x 7 = 21, 4 x 7 = 28, 5 x 7 = 35, 6 x 7 = 42, 7 x 7 = 49, 8 x 7 = 56, 9 x 7 = 63, \n",
            "2 x 8 = 16, 3 x 8 = 24, 4 x 8 = 32, 5 x 8 = 40, 6 x 8 = 48, 7 x 8 = 56, 8 x 8 = 64, 9 x 8 = 72, \n",
            "2 x 9 = 18, 3 x 9 = 27, 4 x 9 = 36, 5 x 9 = 45, 6 x 9 = 54, 7 x 9 = 63, 8 x 9 = 72, 9 x 9 = 81, \n"
          ]
        }
      ]
    },
    {
      "cell_type": "code",
      "source": [
        "for i in range(2,10):\n",
        "  print(f'# {i}단 ', end=' ')\n",
        "# print()  # '\\n'\n",
        "print('\\n'+'-'*60)\n",
        "\n",
        "for i in range(1,10):\n",
        "  for k in range(2,10):\n",
        "    print(f'{k}x{i}={i*k:>2}', end=' ')\n",
        "  print()"
      ],
      "metadata": {
        "colab": {
          "base_uri": "https://localhost:8080/"
        },
        "id": "QVatyGAEbQzk",
        "outputId": "c71d4b64-2007-4134-96dd-8107a5c4a6df"
      },
      "execution_count": 65,
      "outputs": [
        {
          "output_type": "stream",
          "name": "stdout",
          "text": [
            "# 2단  # 3단  # 4단  # 5단  # 6단  # 7단  # 8단  # 9단  \n",
            "------------------------------------------------------------\n",
            "2x1= 2 3x1= 3 4x1= 4 5x1= 5 6x1= 6 7x1= 7 8x1= 8 9x1= 9 \n",
            "2x2= 4 3x2= 6 4x2= 8 5x2=10 6x2=12 7x2=14 8x2=16 9x2=18 \n",
            "2x3= 6 3x3= 9 4x3=12 5x3=15 6x3=18 7x3=21 8x3=24 9x3=27 \n",
            "2x4= 8 3x4=12 4x4=16 5x4=20 6x4=24 7x4=28 8x4=32 9x4=36 \n",
            "2x5=10 3x5=15 4x5=20 5x5=25 6x5=30 7x5=35 8x5=40 9x5=45 \n",
            "2x6=12 3x6=18 4x6=24 5x6=30 6x6=36 7x6=42 8x6=48 9x6=54 \n",
            "2x7=14 3x7=21 4x7=28 5x7=35 6x7=42 7x7=49 8x7=56 9x7=63 \n",
            "2x8=16 3x8=24 4x8=32 5x8=40 6x8=48 7x8=56 8x8=64 9x8=72 \n",
            "2x9=18 3x9=27 4x9=36 5x9=45 6x9=54 7x9=63 8x9=72 9x9=81 \n"
          ]
        }
      ]
    },
    {
      "cell_type": "code",
      "source": [
        "import random\n",
        "print(random.randint(1,11))\n",
        "print(random.randrange(1,10,2))\n",
        "print(random.random())\n",
        "#print(random.shuffle(x))\n",
        "\n",
        "a = [1,2,3,4,5,6,7,8,9]\n",
        "print(a)\n",
        "random.shuffle(a)\n",
        "print(a)\n",
        "print(random.choice(a))"
      ],
      "metadata": {
        "colab": {
          "base_uri": "https://localhost:8080/"
        },
        "id": "j-eTCQDxttiS",
        "outputId": "b26f23e5-8a67-473e-9b82-6df147e638d2"
      },
      "execution_count": 96,
      "outputs": [
        {
          "output_type": "stream",
          "name": "stdout",
          "text": [
            "7\n",
            "7\n",
            "0.04504100902104524\n",
            "[1, 2, 3, 4, 5, 6, 7, 8, 9]\n",
            "[7, 9, 4, 5, 8, 6, 1, 2, 3]\n",
            "8\n"
          ]
        }
      ]
    },
    {
      "cell_type": "code",
      "source": [
        "import random\n",
        "\n",
        "\n",
        "for i in range(5):\n",
        "    첫번째 = random.randint(1,6)\n",
        "    두번째 = random.randint(1,6)\n",
        "    print(\"%d번째\" %(i+1))\n",
        "    print(\"주사위결과:첫번째[%d],두번째[%d]\" %(첫번째, 두번째))\n",
        "\n",
        "    if 첫번째 > 두번째:\n",
        "        print(\"첫번째 승리!\")\n",
        "    elif 두번째 > 첫번째:\n",
        "        print(\"두번째 승리!\")\n",
        "    elif 첫번째 == 두번째 :\n",
        "        print(\"무승부\")\n",
        "    print(\"-\" * 20)"
      ],
      "metadata": {
        "colab": {
          "base_uri": "https://localhost:8080/"
        },
        "id": "H11Kg2tSwmoe",
        "outputId": "8e1695af-2efd-4152-f6dc-e06e8a454048"
      },
      "execution_count": 146,
      "outputs": [
        {
          "output_type": "stream",
          "name": "stdout",
          "text": [
            "1번째\n",
            "주사위결과:첫번째[6],두번째[5]\n",
            "첫번째 승리!\n",
            "--------------------\n",
            "2번째\n",
            "주사위결과:첫번째[2],두번째[4]\n",
            "두번째 승리!\n",
            "--------------------\n",
            "3번째\n",
            "주사위결과:첫번째[4],두번째[5]\n",
            "두번째 승리!\n",
            "--------------------\n",
            "4번째\n",
            "주사위결과:첫번째[5],두번째[2]\n",
            "첫번째 승리!\n",
            "--------------------\n",
            "5번째\n",
            "주사위결과:첫번째[4],두번째[5]\n",
            "두번째 승리!\n",
            "--------------------\n"
          ]
        }
      ]
    },
    {
      "cell_type": "code",
      "source": [
        "print('주사위 던지기 게임입니다.')\n",
        "a=0\n",
        "b=0\n",
        "\n",
        "\n",
        "for i in range(1,6):\n",
        "  print('-'*2,i,'번째 시도','-'*10)\n",
        "  a=random.randint(1,6)\n",
        "  b=random.randint(1,6)\n",
        "  print(f'주사위 결과: 첫번째[{a}] 두번째[{b}]')\n",
        "  if a > b:\n",
        "    print('첫번째 주사위가 이겼습니다.')\n",
        "  elif a == b:\n",
        "    print('비겼습니다.')\n",
        "  else:\n",
        "    print('두번째 주사위가 이겼습니다.')\n",
        "  print()"
      ],
      "metadata": {
        "colab": {
          "base_uri": "https://localhost:8080/"
        },
        "id": "kDl4qv941g5C",
        "outputId": "be4546e9-256f-4bb6-fb34-ac75393b3b01"
      },
      "execution_count": 143,
      "outputs": [
        {
          "output_type": "stream",
          "name": "stdout",
          "text": [
            "주사위 던지기 게임입니다.\n",
            "-- 1 번째 시도 ----------\n",
            "주사위 결과: 첫번째[6] 두번째[4]\n",
            "첫번째 주사위가 이겼습니다.\n",
            "\n",
            "-- 2 번째 시도 ----------\n",
            "주사위 결과: 첫번째[4] 두번째[3]\n",
            "첫번째 주사위가 이겼습니다.\n",
            "\n",
            "-- 3 번째 시도 ----------\n",
            "주사위 결과: 첫번째[4] 두번째[1]\n",
            "첫번째 주사위가 이겼습니다.\n",
            "\n",
            "-- 4 번째 시도 ----------\n",
            "주사위 결과: 첫번째[6] 두번째[4]\n",
            "첫번째 주사위가 이겼습니다.\n",
            "\n",
            "-- 5 번째 시도 ----------\n",
            "주사위 결과: 첫번째[5] 두번째[6]\n",
            "두번째 주사위가 이겼습니다.\n",
            "\n"
          ]
        }
      ]
    },
    {
      "cell_type": "code",
      "source": [
        "import random\n",
        "\n",
        "\n",
        "for i in range(5):\n",
        "    첫번째 = random.randint(1,6)\n",
        "    두번째 = random.randint(1,6)\n",
        "    print(\"%d번째\" %(i+1))\n",
        "    print(\"주사위결과:첫번째[%d],두번째[%d]\" %(첫번째, 두번째))\n",
        "\n",
        "    if 첫번째 > 두번째:\n",
        "        print(\"첫번째 승리!\")\n",
        "    elif 두번째 > 첫번째:\n",
        "        print(\"두번째 승리!\")\n",
        "    elif 첫번째 == 두번째 :\n",
        "        print(\"무승부\")\n",
        "    print(\"-\" * 20)"
      ],
      "metadata": {
        "id": "5VTJ-YIR3i71"
      },
      "execution_count": null,
      "outputs": []
    },
    {
      "cell_type": "code",
      "source": [
        "import random\n",
        "\n",
        "d1,d2,d3,d4,d5,d6 = 0,0,0,0,0,0\n",
        "for i in range(100):\n",
        "  num=random.randint(1,6)\n",
        "  if num == 1:d1 +=1\n",
        "  if num == 2:d2 +=1\n",
        "  if num == 3:d3 +=1\n",
        "  if num == 4:d4 +=1\n",
        "  if num == 5:d5 +=1\n",
        "  if num == 6:d6 +=1\n",
        "print(f'주사위 숫자별 갯수 : d1[{d1}],d2[{d2}],d3[{d3}],d4[{d4}],d5[{d5}],d6[{d6}]')"
      ],
      "metadata": {
        "colab": {
          "base_uri": "https://localhost:8080/"
        },
        "id": "bcrRoWt14i3z",
        "outputId": "db6b1372-45ce-44f5-d746-e421f0122370"
      },
      "execution_count": 158,
      "outputs": [
        {
          "output_type": "stream",
          "name": "stdout",
          "text": [
            "주사위 숫자별 갯수 : d1[17],d2[18],d3[11],d4[14],d5[17],d6[23]\n"
          ]
        }
      ]
    },
    {
      "cell_type": "code",
      "source": [
        "import random\n",
        "\n",
        "dice = [0,0,0,0,0,0]\n",
        "for i in range(100):\n",
        "  num = random.randint(1, 6)\n",
        "  dice[num-1] = dice[num-1] + 1\n",
        " #  print(f'{i+1}회 시도 - 나온 수({num}), 주사위:{dice}')\n",
        "\n",
        "print(f'주사위 숫자의 나온 횟수: {dice}')\n",
        "print(f'가장 큰 횟수: {max(dice)}의 주사위 눈금은: {dice.index( max(dice) )+1} ')"
      ],
      "metadata": {
        "colab": {
          "base_uri": "https://localhost:8080/"
        },
        "id": "q-vI7CPa-h-V",
        "outputId": "e354c934-660a-42b5-9c05-18ba02c196bd"
      },
      "execution_count": 161,
      "outputs": [
        {
          "output_type": "stream",
          "name": "stdout",
          "text": [
            "주사위 숫자의 나온 횟수: [14, 18, 13, 22, 13, 20]\n",
            "가장 큰 횟수: 22의 주사위 눈금은: 4 \n"
          ]
        }
      ]
    },
    {
      "cell_type": "code",
      "source": [
        "a=0\n",
        "\n",
        "while(True):\n",
        "  a=a+1\n",
        "  print(f'\"나무를 {a}번 쳤습니다.\"')\n",
        "  if(a ==10):\n",
        "    print(\"나무가 넘어갔습니다.\")\n",
        "    break"
      ],
      "metadata": {
        "colab": {
          "base_uri": "https://localhost:8080/"
        },
        "id": "HpBEsiKyH8py",
        "outputId": "5bb9aae3-beb0-4c5f-8df9-25123b2b408b"
      },
      "execution_count": 183,
      "outputs": [
        {
          "output_type": "stream",
          "name": "stdout",
          "text": [
            "\"나무를 1번 쳤습니다.\"\n",
            "\"나무를 2번 쳤습니다.\"\n",
            "\"나무를 3번 쳤습니다.\"\n",
            "\"나무를 4번 쳤습니다.\"\n",
            "\"나무를 5번 쳤습니다.\"\n",
            "\"나무를 6번 쳤습니다.\"\n",
            "\"나무를 7번 쳤습니다.\"\n",
            "\"나무를 8번 쳤습니다.\"\n",
            "\"나무를 9번 쳤습니다.\"\n",
            "\"나무를 10번 쳤습니다.\"\n",
            "나무가 넘어갔습니다.\n"
          ]
        }
      ]
    },
    {
      "cell_type": "code",
      "source": [
        "treeHit = 0\n",
        "while treeHit < 10:\n",
        "    treeHit += 1\n",
        "    print(f'나무를 {treeHit}번 찍었습니다.')\n",
        "print('나무 넘어 갑니다~')"
      ],
      "metadata": {
        "colab": {
          "base_uri": "https://localhost:8080/"
        },
        "id": "5MUn-kIAJixJ",
        "outputId": "998e2773-8039-43f3-fa4e-cfd20b4b9d38"
      },
      "execution_count": 179,
      "outputs": [
        {
          "output_type": "stream",
          "name": "stdout",
          "text": [
            "나무를 1번 찍었습니다.\n",
            "나무를 2번 찍었습니다.\n",
            "나무를 3번 찍었습니다.\n",
            "나무를 4번 찍었습니다.\n",
            "나무를 5번 찍었습니다.\n",
            "나무를 6번 찍었습니다.\n",
            "나무를 7번 찍었습니다.\n",
            "나무를 8번 찍었습니다.\n",
            "나무를 9번 찍었습니다.\n",
            "나무를 10번 찍었습니다.\n",
            "나무 넘어 갑니다~\n"
          ]
        }
      ]
    },
    {
      "cell_type": "code",
      "source": [
        "prompt = \"\"\"\n",
        "    1.추가 2.삭제 3.수정 4.종료\n",
        "    번호를 입력해 주세요\"\"\"\n",
        "while num != '4':\n",
        "    num=input(prompt)"
      ],
      "metadata": {
        "colab": {
          "base_uri": "https://localhost:8080/"
        },
        "id": "0uapDSRDLMVq",
        "outputId": "cf1c685a-ee3d-446e-d326-8a31ab3109fe"
      },
      "execution_count": 189,
      "outputs": [
        {
          "name": "stdout",
          "output_type": "stream",
          "text": [
            "\n",
            "    1.추가 2.삭제 3.수정 4.종료\n",
            "    번호를 입력해 주세요1\n",
            "\n",
            "    1.추가 2.삭제 3.수정 4.종료\n",
            "    번호를 입력해 주세요1\n",
            "\n",
            "    1.추가 2.삭제 3.수정 4.종료\n",
            "    번호를 입력해 주세요2\n",
            "\n",
            "    1.추가 2.삭제 3.수정 4.종료\n",
            "    번호를 입력해 주세요4\n"
          ]
        }
      ]
    },
    {
      "cell_type": "code",
      "source": [
        "# 조건에 맞으면 프로그램 빠져 나오기\n",
        "prompt = \"\"\"\n",
        "    1.추가  2.삭제  3.수정  4.종료\n",
        "    해당하는 번호를 입력해주세요: \"\"\"\n",
        "num = ''\n",
        "while num != '4':\n",
        "    num = input(prompt)\n",
        "print('program finish!')"
      ],
      "metadata": {
        "colab": {
          "base_uri": "https://localhost:8080/"
        },
        "id": "M1VBmqksM36A",
        "outputId": "fb253f3c-ab5b-4795-8501-0e1a6c8117f0"
      },
      "execution_count": 190,
      "outputs": [
        {
          "output_type": "stream",
          "name": "stdout",
          "text": [
            "\n",
            "    1.추가  2.삭제  3.수정  4.종료\n",
            "    해당하는 번호를 입력해주세요: 1\n",
            "\n",
            "    1.추가  2.삭제  3.수정  4.종료\n",
            "    해당하는 번호를 입력해주세요: 3\n",
            "\n",
            "    1.추가  2.삭제  3.수정  4.종료\n",
            "    해당하는 번호를 입력해주세요: 4\n",
            "program finish!\n"
          ]
        }
      ]
    },
    {
      "cell_type": "code",
      "source": [
        "# 무한반복 코드 이용하는 방법\n",
        "prompt = \"\"\"\n",
        "    1.추가  2.삭제  3.수정  4.종료\n",
        "    해당하는 번호를 입력해주세요: \"\"\"\n",
        "num = ''\n",
        "while True:\n",
        "    num = input(prompt)\n",
        "    if num == '4': break\n",
        "print('program finish!')"
      ],
      "metadata": {
        "colab": {
          "base_uri": "https://localhost:8080/"
        },
        "id": "XFcFg2tENPGm",
        "outputId": "8a87b3fd-88f5-420b-e9a3-8a5caf521f6f"
      },
      "execution_count": 191,
      "outputs": [
        {
          "output_type": "stream",
          "name": "stdout",
          "text": [
            "\n",
            "    1.추가  2.삭제  3.수정  4.종료\n",
            "    해당하는 번호를 입력해주세요: 3\n",
            "\n",
            "    1.추가  2.삭제  3.수정  4.종료\n",
            "    해당하는 번호를 입력해주세요: 4\n",
            "program finish!\n"
          ]
        }
      ]
    },
    {
      "cell_type": "code",
      "source": [
        "#커피 주문 프로그램  반복문 이용해서 거스름돈 > 0까지 돈을 넣으라고 반복하기\n",
        "coffee1_price = 2500\n",
        "coffee2_price = 3000\n",
        "coffee3_price = 3000\n",
        "menu = f'''[커피 자동주문 머신 메뉴]\n",
        "------------------------\n",
        "- 아메리카노:  {coffee1_price}원\n",
        "- 카페라떼:    {coffee2_price}원\n",
        "- 카푸치노:    {coffee3_price}원\n",
        "------------------------\n",
        "원하시는 커피종류와 잔수를 입력하세요!\n",
        "'''\n",
        "print(menu)\n",
        "coffee1 = int(input('아메리카노 몇잔: '))\n",
        "coffee2 = int(input('카페라떼   몇잔: '))\n",
        "coffee3 = int(input('카푸치노   몇잔: '))\n",
        "total = coffee1_price*coffee1 + coffee2_price*coffee2 + coffee3_price*coffee3\n",
        "print(f'주문하신 총 가격은 {total}원 입니다.')\n",
        "\n",
        "money = 0\n",
        "while total > money:\n",
        "    print(f'{total - money}원이 부족합니다. 돈을 더 넣어주세요.')\n",
        "    new_money = int(input('돈을 입력해주세요: '))\n",
        "    money += new_money\n",
        "print(f'거스름돈은 {money - total}원 입니다. 커피 맛있게 드세요~')"
      ],
      "metadata": {
        "colab": {
          "base_uri": "https://localhost:8080/"
        },
        "id": "K_CroAagPzWE",
        "outputId": "361606d2-c5b4-4ef7-8197-01684d2c41d2"
      },
      "execution_count": 197,
      "outputs": [
        {
          "output_type": "stream",
          "name": "stdout",
          "text": [
            "[커피 자동주문 머신 메뉴]\n",
            "------------------------\n",
            "- 아메리카노:  2500원\n",
            "- 카페라떼:    3000원\n",
            "- 카푸치노:    3000원\n",
            "------------------------\n",
            "원하시는 커피종류와 잔수를 입력하세요!\n",
            "\n",
            "아메리카노 몇잔: 3\n",
            "카페라떼   몇잔: 3\n",
            "카푸치노   몇잔: 3\n",
            "주문하신 총 가격은 25500원 입니다.\n",
            "25500원이 부족합니다. 돈을 더 넣어주세요.\n",
            "돈을 입력해주세요: 20000\n",
            "5500원이 부족합니다. 돈을 더 넣어주세요.\n",
            "돈을 입력해주세요: 5000\n",
            "500원이 부족합니다. 돈을 더 넣어주세요.\n",
            "돈을 입력해주세요: 499\n",
            "1원이 부족합니다. 돈을 더 넣어주세요.\n",
            "돈을 입력해주세요: 1\n",
            "거스름돈은 0원 입니다. 커피 맛있게 드세요~\n"
          ]
        }
      ]
    },
    {
      "cell_type": "code",
      "source": [
        "coffee1_price = 2500\n",
        "coffee2_price = 3000\n",
        "coffee3_price = 3000\n",
        "menu = f'''[커피 자동주문 머신 메뉴]\n",
        "------------------------\n",
        "- 아메리카노:  {coffee1_price}원\n",
        "- 카페라떼:    {coffee2_price}원\n",
        "- 카푸치노:    {coffee3_price}원\n",
        "------------------------\n",
        "원하시는 커피종류와 잔수를 입력하세요!\n",
        "'''\n",
        "print(menu)\n",
        "coffee1 = int(input('아메리카노 몇 잔: '))\n",
        "coffee2 = int(input('카페라떼   몇 잔: '))\n",
        "coffee3 = int(input('카푸치노   몇 잔: '))\n",
        "total = coffee1_price * coffee1 + coffee2_price * coffee2 + coffee3_price * coffee3\n",
        "print(f'주문하신 총 가격은 {total}원 입니다.')\n",
        "\n",
        "while True:\n",
        "    money = int(input('돈을 입력해주세요: '))\n",
        "    change = total - money\n",
        "    total = change\n",
        "    if change > 0:\n",
        "        print(f'입력한 금액이 부족합니다.{change}원을 더 넣어주세요.')\n",
        "    else:\n",
        "        print(f'거스름돈은 {abs(change)}원 입니다. 커피 맛있게 드세요~')\n",
        "        break"
      ],
      "metadata": {
        "id": "RruMBquWTIh5"
      },
      "execution_count": null,
      "outputs": []
    }
  ]
}